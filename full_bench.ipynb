{
 "cells": [
  {
   "cell_type": "code",
   "execution_count": null,
   "id": "b96888ce-13d0-4462-b761-e39059d82bf5",
   "metadata": {},
   "outputs": [],
   "source": [
    "import os\n",
    "from dotenv import load_dotenv\n",
    "\n",
    "# Load HF token from .env\n",
    "load_dotenv()\n",
    "hf_token = os.getenv('HUGGINGFACE_TOKEN')\n",
    "\n",
    "# Login to HuggingFace\n",
    "from huggingface_hub import login\n",
    "login(token=hf_token)"
   ]
  },
  {
   "cell_type": "code",
   "execution_count": 1,
   "id": "1483a3ab-eb47-4f89-a295-0048f02a7149",
   "metadata": {},
   "outputs": [
    {
     "data": {
      "application/vnd.jupyter.widget-view+json": {
       "model_id": "90f61d97d8d648b9923a71b251d50a76",
       "version_major": 2,
       "version_minor": 0
      },
      "text/plain": [
       "Testing dynamic cache with CPU decode=False:   0%|          | 0/4 [00:00<?, ?it/s]"
      ]
     },
     "metadata": {},
     "output_type": "display_data"
    },
    {
     "name": "stderr",
     "output_type": "stream",
     "text": [
      "INFO:__main__:Loading model 'meta-llama/Llama-3.2-1b' with cache strategy 'dynamic'\n",
      "/home/jbi4001/miniforge3/envs/llm_bench/lib/python3.11/site-packages/torchvision/datapoints/__init__.py:12: UserWarning: The torchvision.datapoints and torchvision.transforms.v2 namespaces are still Beta. While we do not expect major breaking changes, some APIs may still change according to user feedback. Please submit any feedback you may have in this issue: https://github.com/pytorch/vision/issues/6753, and you can also check out https://github.com/pytorch/vision/issues/7319 to learn more about the APIs that we suspect might involve future changes. You can silence this warning by calling torchvision.disable_beta_transforms_warning().\n",
      "  warnings.warn(_BETA_TRANSFORMS_WARNING)\n",
      "/home/jbi4001/miniforge3/envs/llm_bench/lib/python3.11/site-packages/torchvision/transforms/v2/__init__.py:54: UserWarning: The torchvision.datapoints and torchvision.transforms.v2 namespaces are still Beta. While we do not expect major breaking changes, some APIs may still change according to user feedback. Please submit any feedback you may have in this issue: https://github.com/pytorch/vision/issues/6753, and you can also check out https://github.com/pytorch/vision/issues/7319 to learn more about the APIs that we suspect might involve future changes. You can silence this warning by calling torchvision.disable_beta_transforms_warning().\n",
      "  warnings.warn(_BETA_TRANSFORMS_WARNING)\n",
      "INFO:accelerate.utils.modeling:We will use 90% of the memory on device 0 for storing the model, and 10% for the buffer to avoid OOM. You can set `max_memory` in to a higher value to use more memory (at your own risk).\n",
      "INFO:__main__:Loading model 'meta-llama/Llama-3.2-1b' with cache strategy 'dynamic'\n",
      "INFO:accelerate.utils.modeling:We will use 90% of the memory on device 0 for storing the model, and 10% for the buffer to avoid OOM. You can set `max_memory` in to a higher value to use more memory (at your own risk).\n",
      "INFO:__main__:Loading model 'meta-llama/Llama-3.2-1b' with cache strategy 'dynamic'\n",
      "INFO:accelerate.utils.modeling:We will use 90% of the memory on device 0 for storing the model, and 10% for the buffer to avoid OOM. You can set `max_memory` in to a higher value to use more memory (at your own risk).\n",
      "INFO:__main__:Loading model 'meta-llama/Llama-3.2-1b' with cache strategy 'dynamic'\n",
      "INFO:accelerate.utils.modeling:We will use 90% of the memory on device 0 for storing the model, and 10% for the buffer to avoid OOM. You can set `max_memory` in to a higher value to use more memory (at your own risk).\n"
     ]
    },
    {
     "data": {
      "application/vnd.jupyter.widget-view+json": {
       "model_id": "6a7bccd79dad41a9923473fced516768",
       "version_major": 2,
       "version_minor": 0
      },
      "text/plain": [
       "Testing dynamic cache with CPU decode=True:   0%|          | 0/4 [00:00<?, ?it/s]"
      ]
     },
     "metadata": {},
     "output_type": "display_data"
    },
    {
     "name": "stderr",
     "output_type": "stream",
     "text": [
      "INFO:__main__:Loading model 'meta-llama/Llama-3.2-1b' with cache strategy 'dynamic'\n",
      "INFO:__main__:Moving decoder to CPU...\n",
      "INFO:__main__:Decoder moved to CPU\n",
      "INFO:__main__:Loading model 'meta-llama/Llama-3.2-1b' with cache strategy 'dynamic'\n",
      "INFO:__main__:Moving decoder to CPU...\n",
      "INFO:__main__:Decoder moved to CPU\n",
      "INFO:__main__:Loading model 'meta-llama/Llama-3.2-1b' with cache strategy 'dynamic'\n",
      "INFO:__main__:Moving decoder to CPU...\n",
      "INFO:__main__:Decoder moved to CPU\n",
      "INFO:__main__:Loading model 'meta-llama/Llama-3.2-1b' with cache strategy 'dynamic'\n",
      "INFO:__main__:Moving decoder to CPU...\n",
      "INFO:__main__:Decoder moved to CPU\n"
     ]
    },
    {
     "data": {
      "application/vnd.jupyter.widget-view+json": {
       "model_id": "c5325fc6c7564fbfa8515cf3a2f2fd8d",
       "version_major": 2,
       "version_minor": 0
      },
      "text/plain": [
       "Testing offloaded cache with CPU decode=False:   0%|          | 0/4 [00:00<?, ?it/s]"
      ]
     },
     "metadata": {},
     "output_type": "display_data"
    },
    {
     "name": "stderr",
     "output_type": "stream",
     "text": [
      "INFO:__main__:Loading model 'meta-llama/Llama-3.2-1b' with cache strategy 'offloaded'\n",
      "INFO:accelerate.utils.modeling:We will use 90% of the memory on device 0 for storing the model, and 10% for the buffer to avoid OOM. You can set `max_memory` in to a higher value to use more memory (at your own risk).\n",
      "INFO:__main__:Loading model 'meta-llama/Llama-3.2-1b' with cache strategy 'offloaded'\n",
      "INFO:accelerate.utils.modeling:We will use 90% of the memory on device 0 for storing the model, and 10% for the buffer to avoid OOM. You can set `max_memory` in to a higher value to use more memory (at your own risk).\n",
      "INFO:__main__:Loading model 'meta-llama/Llama-3.2-1b' with cache strategy 'offloaded'\n",
      "INFO:accelerate.utils.modeling:We will use 90% of the memory on device 0 for storing the model, and 10% for the buffer to avoid OOM. You can set `max_memory` in to a higher value to use more memory (at your own risk).\n",
      "INFO:__main__:Loading model 'meta-llama/Llama-3.2-1b' with cache strategy 'offloaded'\n",
      "INFO:accelerate.utils.modeling:We will use 90% of the memory on device 0 for storing the model, and 10% for the buffer to avoid OOM. You can set `max_memory` in to a higher value to use more memory (at your own risk).\n"
     ]
    },
    {
     "data": {
      "application/vnd.jupyter.widget-view+json": {
       "model_id": "75964988a8314f97a9a165f97b627bcc",
       "version_major": 2,
       "version_minor": 0
      },
      "text/plain": [
       "Testing offloaded cache with CPU decode=True:   0%|          | 0/4 [00:00<?, ?it/s]"
      ]
     },
     "metadata": {},
     "output_type": "display_data"
    },
    {
     "name": "stderr",
     "output_type": "stream",
     "text": [
      "INFO:__main__:Loading model 'meta-llama/Llama-3.2-1b' with cache strategy 'offloaded'\n",
      "INFO:__main__:Moving decoder to CPU...\n",
      "INFO:__main__:Decoder moved to CPU\n",
      "INFO:__main__:Loading model 'meta-llama/Llama-3.2-1b' with cache strategy 'offloaded'\n",
      "INFO:__main__:Moving decoder to CPU...\n",
      "INFO:__main__:Decoder moved to CPU\n",
      "INFO:__main__:Loading model 'meta-llama/Llama-3.2-1b' with cache strategy 'offloaded'\n",
      "INFO:__main__:Moving decoder to CPU...\n",
      "INFO:__main__:Decoder moved to CPU\n",
      "INFO:__main__:Loading model 'meta-llama/Llama-3.2-1b' with cache strategy 'offloaded'\n",
      "INFO:__main__:Moving decoder to CPU...\n",
      "INFO:__main__:Decoder moved to CPU\n"
     ]
    },
    {
     "data": {
      "image/png": "[encoded data removed]",
      "text/plain": [
       "<Figure size 1200x600 with 1 Axes>"
      ]
     },
     "metadata": {},
     "output_type": "display_data"
    }
   ],
   "source": [
    "import torch\n",
    "import numpy as np\n",
    "import time\n",
    "import logging\n",
    "import psutil\n",
    "from dataclasses import dataclass\n",
    "from typing import Dict, Optional, List, Union, Tuple, Any\n",
    "import matplotlib.pyplot as plt\n",
    "import seaborn as sns\n",
    "from tqdm.notebook import tqdm\n",
    "\n",
    "from transformers import (\n",
    "    AutoModelForCausalLM, \n",
    "    AutoTokenizer,\n",
    "    PretrainedConfig,\n",
    "    Cache,\n",
    "    DynamicCache, \n",
    "    OffloadedCache\n",
    ")\n",
    "\n",
    "# Configure logging\n",
    "logging.basicConfig(level=logging.INFO)\n",
    "logger = logging.getLogger(__name__)\n",
    "\n",
    "@dataclass\n",
    "class ModelConfig:\n",
    "    \"\"\"Configuration for model loading and inference\"\"\"\n",
    "    model_name: str = \"meta-llama/Llama-3.2-1b\"\n",
    "    device: str = \"cuda\" if torch.cuda.is_available() else \"cpu\"\n",
    "    cache_strategy: str = \"dynamic\"  # dynamic or offloaded\n",
    "    use_cpu_decode: bool = False\n",
    "    torch_dtype: torch.dtype = torch.float16\n",
    "    \n",
    "class HybridLlamaInference:\n",
    "    \"\"\"Enhanced LLaMA inference with CPU decode support\"\"\"\n",
    "    def __init__(self, config: ModelConfig):\n",
    "        self.config = config\n",
    "        self.metrics_tracker = None\n",
    "        self.setup()\n",
    "    \n",
    "    def setup(self):\n",
    "        \"\"\"Initialize model with CPU decode if specified\"\"\"\n",
    "        logger.info(f\"Loading model '{self.config.model_name}' with cache strategy '{self.config.cache_strategy}'\")\n",
    "        \n",
    "        # Clear GPU memory\n",
    "        if torch.cuda.is_available():\n",
    "            torch.cuda.empty_cache()\n",
    "            torch.cuda.reset_peak_memory_stats()\n",
    "        \n",
    "        # Load model\n",
    "        self.model = AutoModelForCausalLM.from_pretrained(\n",
    "            self.config.model_name,\n",
    "            torch_dtype=self.config.torch_dtype,\n",
    "            device_map=\"auto\" if not self.config.use_cpu_decode else None,\n",
    "            low_cpu_mem_usage=True\n",
    "        )\n",
    "\n",
    "        self.model = self.model.float()\n",
    "        \n",
    "        # Move decoder to CPU if specified\n",
    "        if self.config.use_cpu_decode:\n",
    "            logger.info(\"Moving decoder to CPU...\")\n",
    "            if hasattr(self.model, 'decoder'):\n",
    "                self.model.decoder.to(\"cpu\")\n",
    "            else:\n",
    "                # For models without explicit decoder attribute\n",
    "                self.model.to(\"cpu\")\n",
    "            logger.info(\"Decoder moved to CPU\")\n",
    "                \n",
    "        self.tokenizer = AutoTokenizer.from_pretrained(self.config.model_name)\n",
    "        if self.tokenizer.pad_token is None:\n",
    "            self.tokenizer.pad_token = self.tokenizer.eos_token\n",
    "            \n",
    "        # Initialize cache based on strategy\n",
    "        self.cache = DynamicCache() if self.config.cache_strategy == \"dynamic\" else OffloadedCache()\n",
    "    \n",
    "    def run_inference(\n",
    "        self,\n",
    "        input_text: str,\n",
    "        max_new_tokens: int = 100,\n",
    "        temperature: float = 1.0,\n",
    "    ) -> Dict:\n",
    "        \"\"\"Run inference with enhanced metrics tracking\"\"\"\n",
    "        inputs = self.tokenizer(\n",
    "            input_text, \n",
    "            return_tensors=\"pt\",\n",
    "            truncation=True\n",
    "        ).to(self.config.device if not self.config.use_cpu_decode else \"cpu\")\n",
    "        \n",
    "        try:\n",
    "            with torch.inference_mode():\n",
    "                # Prefill phase\n",
    "                if torch.cuda.is_available():\n",
    "                    torch.cuda.synchronize()\n",
    "                    \n",
    "                input_ids = inputs[\"input_ids\"]\n",
    "                attention_mask = inputs[\"attention_mask\"]\n",
    "                \n",
    "                outputs = self.model(\n",
    "                    input_ids=input_ids,\n",
    "                    attention_mask=attention_mask,\n",
    "                    past_key_values=self.cache,\n",
    "                    use_cache=True\n",
    "                )\n",
    "                \n",
    "                # For simplicity, just do greedy decoding for now\n",
    "                generated_ids = input_ids\n",
    "                \n",
    "                for _ in range(max_new_tokens):\n",
    "                    next_token_logits = outputs.logits[:, -1, :] / temperature\n",
    "                    next_token = torch.argmax(next_token_logits, dim=-1).unsqueeze(0)\n",
    "                    generated_ids = torch.cat([generated_ids, next_token], dim=-1)\n",
    "                    \n",
    "                    # Prepare next inputs\n",
    "                    attention_mask = torch.cat([attention_mask, attention_mask.new_ones((1, 1))], dim=-1)\n",
    "                    \n",
    "                    outputs = self.model(\n",
    "                        input_ids=next_token,\n",
    "                        attention_mask=attention_mask,\n",
    "                        past_key_values=self.cache,\n",
    "                        use_cache=True\n",
    "                    )\n",
    "                    \n",
    "                    if next_token.item() == self.tokenizer.eos_token_id:\n",
    "                        break\n",
    "                        \n",
    "                generated_text = self.tokenizer.decode(generated_ids[0], skip_special_tokens=True)\n",
    "                \n",
    "                # Get memory stats\n",
    "                memory_stats = {\n",
    "                    'gpu_allocated': torch.cuda.memory_allocated() / 1024**2 if torch.cuda.is_available() else 0,\n",
    "                    'gpu_reserved': torch.cuda.memory_reserved() / 1024**2 if torch.cuda.is_available() else 0,\n",
    "                    'cpu_memory': psutil.Process().memory_info().rss / 1024**2\n",
    "                }\n",
    "                \n",
    "                return {\n",
    "                    \"text\": generated_text,\n",
    "                    \"memory_stats\": memory_stats\n",
    "                }\n",
    "                \n",
    "        except Exception as e:\n",
    "            logger.error(f\"Generation failed: {e}\")\n",
    "            raise\n",
    "\n",
    "    def cleanup(self):\n",
    "        \"\"\"Clean up resources with enhanced memory management\"\"\"\n",
    "        if torch.cuda.is_available():\n",
    "            torch.cuda.synchronize()\n",
    "        \n",
    "        # Clear model and cache\n",
    "        if hasattr(self, 'model'):\n",
    "            self.model.cpu()\n",
    "            del self.model\n",
    "        if hasattr(self, 'cache'):\n",
    "            del self.cache\n",
    "            \n",
    "        # Thorough CUDA cleanup\n",
    "        if torch.cuda.is_available():\n",
    "            torch.cuda.empty_cache()\n",
    "            torch.cuda.reset_peak_memory_stats()\n",
    "            torch.cuda.synchronize()\n",
    "            \n",
    "        # Force garbage collection\n",
    "        import gc\n",
    "        gc.collect()\n",
    "        if torch.cuda.is_available():\n",
    "            torch.cuda.empty_cache()\n",
    "\n",
    "class EnhancedDocumentLoader:\n",
    "    \"\"\"Simplified document loader for testing\"\"\"\n",
    "    def __init__(self, base_text: str = \"This is a test document. It contains multiple sentences with varying content. \"):\n",
    "        self.base_text = base_text\n",
    "    \n",
    "    def load_chunk(self, chunk_size: int = 1000) -> str:\n",
    "        # Create more varied content with proper sentence boundaries\n",
    "        sentences = self.base_text.split('. ')\n",
    "        result = []\n",
    "        current_length = 0\n",
    "        while current_length < chunk_size:\n",
    "            for sentence in sentences:\n",
    "                result.append(sentence + \". \")\n",
    "                current_length += len(sentence) + 2\n",
    "                if current_length >= chunk_size:\n",
    "                    break\n",
    "        return \"\".join(result)\n",
    "\n",
    "def run_context_length_test(\n",
    "    config: ModelConfig,\n",
    "    context_lengths: List[int] = [1024, 2048, 4096, 8192],\n",
    "    max_new_tokens: int = 20\n",
    ") -> Dict[str, List[Dict]]:\n",
    "    \"\"\"Test different context lengths with given configuration\"\"\"\n",
    "    results = []\n",
    "    \n",
    "    for length in tqdm(context_lengths, desc=f\"Testing {config.cache_strategy} cache with CPU decode={config.use_cpu_decode}\"):\n",
    "        try:\n",
    "            # Initialize model\n",
    "            llm = HybridLlamaInference(config)\n",
    "            \n",
    "            # Ensure CUDA is clean before each run\n",
    "            if torch.cuda.is_available():\n",
    "                torch.cuda.empty_cache()\n",
    "                torch.cuda.reset_peak_memory_stats()\n",
    "                torch.cuda.synchronize()\n",
    "            \n",
    "            # Generate input text using document loader\n",
    "            doc_loader = EnhancedDocumentLoader()\n",
    "            input_text = doc_loader.load_chunk(chunk_size=length)\n",
    "            \n",
    "            # Run inference\n",
    "            start_time = time.perf_counter()\n",
    "            result = llm.run_inference(input_text, max_new_tokens=max_new_tokens)\n",
    "            end_time = time.perf_counter()\n",
    "            \n",
    "            # Collect metrics\n",
    "            metrics = {\n",
    "                'context_length': length,\n",
    "                'latency': end_time - start_time,\n",
    "                'tokens_per_second': max_new_tokens / (end_time - start_time),\n",
    "                **result['memory_stats']\n",
    "            }\n",
    "            \n",
    "            results.append(metrics)\n",
    "            \n",
    "        except Exception as e:\n",
    "            logger.error(f\"Error testing length {length}: {str(e)}\")\n",
    "            continue\n",
    "            \n",
    "        finally:\n",
    "            if 'llm' in locals():\n",
    "                llm.cleanup()\n",
    "    \n",
    "    return results\n",
    "\n",
    "# Example usage:\n",
    "if __name__ == \"__main__\":\n",
    "    # Test configurations\n",
    "    configs = [\n",
    "        ModelConfig(cache_strategy=\"dynamic\", use_cpu_decode=False),  # Baseline\n",
    "        ModelConfig(cache_strategy=\"dynamic\", use_cpu_decode=True),   # CPU decode\n",
    "        ModelConfig(cache_strategy=\"offloaded\", use_cpu_decode=False), # Offloaded cache\n",
    "        ModelConfig(cache_strategy=\"offloaded\", use_cpu_decode=True)  # Hybrid\n",
    "    ]\n",
    "    \n",
    "    context_lengths = [1024, 2048, 4096, 8192]\n",
    "    all_results = {}\n",
    "    \n",
    "    for config in configs:\n",
    "        name = f\"{config.cache_strategy}_cpu{config.use_cpu_decode}\"\n",
    "        all_results[name] = run_context_length_test(config, context_lengths)\n",
    "        \n",
    "    # Plot results\n",
    "    plt.figure(figsize=(12, 6))\n",
    "    for name, results in all_results.items():\n",
    "        lengths = [r['context_length'] for r in results]\n",
    "        throughput = [r['tokens_per_second'] for r in results]\n",
    "        plt.plot(lengths, throughput, marker='o', label=name)\n",
    "    \n",
    "    plt.xlabel('Context Length')\n",
    "    plt.ylabel('Tokens per Second')\n",
    "    plt.title('Throughput vs Context Length')\n",
    "    plt.legend()\n",
    "    plt.grid(True)\n",
    "    plt.show()"
   ]
  },
  {
   "cell_type": "code",
   "execution_count": 26,
   "id": "e458aea1-cc48-4e4d-9fd7-0138400ee26d",
   "metadata": {},
   "outputs": [],
   "source": [
    "import torch\n",
    "import numpy as np\n",
    "import time\n",
    "import logging\n",
    "import psutil\n",
    "from dataclasses import dataclass\n",
    "from typing import Dict, Optional, List, Union, Tuple, Any\n",
    "import matplotlib.pyplot as plt\n",
    "import seaborn as sns\n",
    "from tqdm.notebook import tqdm\n",
    "\n",
    "from transformers import (\n",
    "    AutoModelForCausalLM, \n",
    "    AutoTokenizer,\n",
    "    PretrainedConfig,\n",
    "    Cache,\n",
    "    DynamicCache, \n",
    "    OffloadedCache\n",
    ")\n",
    "\n",
    "# Configure logging\n",
    "logging.basicConfig(level=logging.INFO)\n",
    "logger = logging.getLogger(__name__)\n",
    "\n",
    "@dataclass\n",
    "class ModelConfig:\n",
    "    \"\"\"Configuration for model loading and inference\"\"\"\n",
    "    model_name: str = \"meta-llama/Llama-3.2-1B\"\n",
    "    device: str = \"cuda\" if torch.cuda.is_available() else \"cpu\"\n",
    "    cache_strategy: str = \"dynamic\"  # dynamic or offloaded\n",
    "    use_cpu_decode: bool = False\n",
    "    torch_dtype: torch.dtype = torch.float16\n",
    "    \n",
    "class HybridLlamaInference:\n",
    "    \"\"\"Enhanced LLaMA inference with CPU decode support\"\"\"\n",
    "    def __init__(self, config: ModelConfig):\n",
    "        self.config = config\n",
    "        self.metrics_tracker = None\n",
    "        self.setup()\n",
    "    \n",
    "    def setup(self):\n",
    "        \"\"\"Initialize model with CPU decode if specified\"\"\"\n",
    "        logger.info(f\"Loading model '{self.config.model_name}' with cache strategy '{self.config.cache_strategy}'\")\n",
    "        \n",
    "        # Clear GPU memory\n",
    "        if torch.cuda.is_available():\n",
    "            torch.cuda.empty_cache()\n",
    "            torch.cuda.reset_peak_memory_stats()\n",
    "        \n",
    "        # Load model\n",
    "        self.model = AutoModelForCausalLM.from_pretrained(\n",
    "            self.config.model_name,\n",
    "            torch_dtype=self.config.torch_dtype,\n",
    "            device_map=\"auto\" if not self.config.use_cpu_decode else None,\n",
    "            low_cpu_mem_usage=True\n",
    "        )\n",
    "\n",
    "        self.model = self.model.float()\n",
    "        \n",
    "        # Move decoder to CPU if specified\n",
    "        if self.config.use_cpu_decode:\n",
    "            logger.info(\"Moving decoder to CPU...\")\n",
    "            if hasattr(self.model, 'decoder'):\n",
    "                self.model.decoder.to(\"cpu\")\n",
    "            else:\n",
    "                # For models without explicit decoder attribute\n",
    "                self.model.to(\"cpu\")\n",
    "            logger.info(\"Decoder moved to CPU\")\n",
    "                \n",
    "        self.tokenizer = AutoTokenizer.from_pretrained(self.config.model_name)\n",
    "        if self.tokenizer.pad_token is None:\n",
    "            self.tokenizer.pad_token = self.tokenizer.eos_token\n",
    "            \n",
    "        # Initialize cache based on strategy\n",
    "        self.cache = DynamicCache() if self.config.cache_strategy == \"dynamic\" else OffloadedCache()\n",
    "    \n",
    "    def run_inference(\n",
    "        self,\n",
    "        input_text: str,\n",
    "        max_new_tokens: int = 100,\n",
    "        temperature: float = 1.0,\n",
    "    ) -> Dict:\n",
    "        \"\"\"Run inference with enhanced metrics tracking\"\"\"\n",
    "        inputs = self.tokenizer(\n",
    "            input_text, \n",
    "            return_tensors=\"pt\",\n",
    "            truncation=True\n",
    "        ).to(self.config.device if not self.config.use_cpu_decode else \"cpu\")\n",
    "        \n",
    "        try:\n",
    "            with torch.inference_mode():\n",
    "                # Prefill phase\n",
    "                if torch.cuda.is_available():\n",
    "                    torch.cuda.synchronize()\n",
    "                    \n",
    "                input_ids = inputs[\"input_ids\"]\n",
    "                attention_mask = inputs[\"attention_mask\"]\n",
    "                \n",
    "                outputs = self.model(\n",
    "                    input_ids=input_ids,\n",
    "                    attention_mask=attention_mask,\n",
    "                    past_key_values=self.cache,\n",
    "                    use_cache=True\n",
    "                )\n",
    "                \n",
    "                # For simplicity, just do greedy decoding for now\n",
    "                generated_ids = input_ids\n",
    "                actual_tokens_generated = 0\n",
    "                \n",
    "                for _ in range(max_new_tokens):\n",
    "                    next_token_logits = outputs.logits[:, -1, :] / temperature\n",
    "                    next_token = torch.argmax(next_token_logits, dim=-1).unsqueeze(0)\n",
    "                    generated_ids = torch.cat([generated_ids, next_token], dim=-1)\n",
    "                    actual_tokens_generated +=1\n",
    "                    \n",
    "                    # Prepare next inputs\n",
    "                    attention_mask = torch.cat([attention_mask, attention_mask.new_ones((1, 1))], dim=-1)\n",
    "                    \n",
    "                    outputs = self.model(\n",
    "                        input_ids=next_token,\n",
    "                        attention_mask=attention_mask,\n",
    "                        past_key_values=self.cache,\n",
    "                        use_cache=True\n",
    "                    )\n",
    "                    \n",
    "                    if next_token.item() == self.tokenizer.eos_token_id:\n",
    "                        break\n",
    "                        \n",
    "                generated_text = self.tokenizer.decode(generated_ids[0], skip_special_tokens=True)\n",
    "                \n",
    "                # Get memory stats\n",
    "                memory_stats = {\n",
    "                    'gpu_allocated': torch.cuda.memory_allocated() / 1024**2 if torch.cuda.is_available() else 0,\n",
    "                    'gpu_reserved': torch.cuda.memory_reserved() / 1024**2 if torch.cuda.is_available() else 0,\n",
    "                    'cpu_memory': psutil.Process().memory_info().rss / 1024**2,\n",
    "                    'tokens_generated': actual_tokens_generated\n",
    "                }\n",
    "                \n",
    "                return {\n",
    "                    \"text\": generated_text,\n",
    "                    \"memory_stats\": memory_stats\n",
    "                }\n",
    "                \n",
    "        except Exception as e:\n",
    "            logger.error(f\"Generation failed: {e}\")\n",
    "            raise\n",
    "\n",
    "    def cleanup(self):\n",
    "        \"\"\"Clean up resources with enhanced memory management\"\"\"\n",
    "        if torch.cuda.is_available():\n",
    "            torch.cuda.synchronize()\n",
    "        \n",
    "        # Clear model and cache\n",
    "        if hasattr(self, 'model'):\n",
    "            self.model.cpu()\n",
    "            del self.model\n",
    "        if hasattr(self, 'cache'):\n",
    "            del self.cache\n",
    "            \n",
    "        # Thorough CUDA cleanup\n",
    "        if torch.cuda.is_available():\n",
    "            torch.cuda.empty_cache()\n",
    "            torch.cuda.reset_peak_memory_stats()\n",
    "            torch.cuda.synchronize()\n",
    "            \n",
    "        # Force garbage collection\n",
    "        import gc\n",
    "        gc.collect()\n",
    "        if torch.cuda.is_available():\n",
    "            torch.cuda.empty_cache()\n",
    "\n",
    "class EnhancedDocumentLoader:\n",
    "    \"\"\"Simplified document loader for testing\"\"\"\n",
    "    def __init__(self, base_text: str = \"This is a test document. It contains multiple sentences with varying content. \"):\n",
    "        self.base_text = base_text\n",
    "    \n",
    "    def load_chunk(self, chunk_size: int = 1000) -> str:\n",
    "        # Create more varied content with proper sentence boundaries\n",
    "        sentences = self.base_text.split('. ')\n",
    "        result = []\n",
    "        current_length = 0\n",
    "        while current_length < chunk_size:\n",
    "            for sentence in sentences:\n",
    "                result.append(sentence + \". \")\n",
    "                current_length += len(sentence) + 2\n",
    "                if current_length >= chunk_size:\n",
    "                    break\n",
    "        return \"\".join(result)\n",
    "\n",
    "def run_comprehensive_test(\n",
    "    config: ModelConfig,\n",
    "    context_lengths: List[int] = [1024, 2048, 4096, 8192],\n",
    "    output_lengths: List[int] = [20, 50, 100, 200],\n",
    "    warmup: bool = True\n",
    ") -> Dict[str, List[Dict]]:\n",
    "    \"\"\"Run comprehensive benchmark testing different context and output lengths\"\"\"\n",
    "    results = []\n",
    "    \n",
    "    # Optional warmup run\n",
    "    if warmup:\n",
    "        logger.info(\"Performing warmup run...\")\n",
    "        try:\n",
    "            llm = HybridLlamaInference(config)\n",
    "            warmup_text = EnhancedDocumentLoader().load_chunk(chunk_size=1024)\n",
    "            llm.run_inference(warmup_text, max_new_tokens=20)\n",
    "            llm.cleanup()\n",
    "        except Exception as e:\n",
    "            logger.warning(f\"Warmup run failed: {e}\")\n",
    "    \n",
    "    # Main benchmark runs\n",
    "    for context_len in tqdm(context_lengths, desc=f\"Testing {config.cache_strategy} cache with CPU decode={config.use_cpu_decode}\"):\n",
    "        for output_len in tqdm(output_lengths, desc=f\"Output length\", leave=False):\n",
    "            try:\n",
    "                # Initialize model and ensure clean GPU state\n",
    "                llm = HybridLlamaInference(config)\n",
    "                \n",
    "                # Generate input text using document loader\n",
    "                doc_loader = EnhancedDocumentLoader()\n",
    "                input_text = doc_loader.load_chunk(chunk_size=context_len)\n",
    "                \n",
    "                # Run inference with specific output length\n",
    "                start_time = time.perf_counter()\n",
    "                result = llm.run_inference(input_text, max_new_tokens=output_len)\n",
    "                end_time = time.perf_counter()\n",
    "                \n",
    "                # Collect metrics\n",
    "                metrics = {\n",
    "                    'context_length': context_len,\n",
    "                    'target_output_length': output_len,  # Added to track target length\n",
    "                    'actual_output_length': result['memory_stats']['tokens_generated'],\n",
    "                    'total_latency': end_time - start_time,\n",
    "                    'tokens_per_second': result['memory_stats']['tokens_generated'] / (end_time - start_time),\n",
    "                    'per_token_latency': (end_time - start_time) / result['memory_stats']['tokens_generated'],\n",
    "                    **result['memory_stats']\n",
    "                }\n",
    "                \n",
    "                results.append(metrics)\n",
    "                \n",
    "            except Exception as e:\n",
    "                logger.error(f\"Error testing context_len={context_len}, output_len={output_len}: {str(e)}\")\n",
    "                continue\n",
    "                \n",
    "            finally:\n",
    "                if 'llm' in locals():\n",
    "                    llm.cleanup()\n",
    "    \n",
    "    return results"
   ]
  },
  {
   "cell_type": "code",
   "execution_count": 27,
   "id": "0eaf58f8-87f4-4e2f-882b-c6de6798cc73",
   "metadata": {},
   "outputs": [
    {
     "name": "stderr",
     "output_type": "stream",
     "text": [
      "INFO:__main__:Performing warmup run...\n",
      "INFO:__main__:Loading model 'meta-llama/Llama-3.2-1B' with cache strategy 'dynamic'\n",
      "INFO:accelerate.utils.modeling:We will use 90% of the memory on device 0 for storing the model, and 10% for the buffer to avoid OOM. You can set `max_memory` in to a higher value to use more memory (at your own risk).\n"
     ]
    },
    {
     "data": {
      "application/vnd.jupyter.widget-view+json": {
       "model_id": "7e776da979c04289acae50638fc7f8dc",
       "version_major": 2,
       "version_minor": 0
      },
      "text/plain": [
       "Testing dynamic cache with CPU decode=False:   0%|          | 0/5 [00:00<?, ?it/s]"
      ]
     },
     "metadata": {},
     "output_type": "display_data"
    },
    {
     "data": {
      "application/vnd.jupyter.widget-view+json": {
       "model_id": "",
       "version_major": 2,
       "version_minor": 0
      },
      "text/plain": [
       "Output length:   0%|          | 0/4 [00:00<?, ?it/s]"
      ]
     },
     "metadata": {},
     "output_type": "display_data"
    },
    {
     "name": "stderr",
     "output_type": "stream",
     "text": [
      "INFO:__main__:Loading model 'meta-llama/Llama-3.2-1B' with cache strategy 'dynamic'\n",
      "INFO:accelerate.utils.modeling:We will use 90% of the memory on device 0 for storing the model, and 10% for the buffer to avoid OOM. You can set `max_memory` in to a higher value to use more memory (at your own risk).\n",
      "INFO:__main__:Loading model 'meta-llama/Llama-3.2-1B' with cache strategy 'dynamic'\n",
      "INFO:accelerate.utils.modeling:We will use 90% of the memory on device 0 for storing the model, and 10% for the buffer to avoid OOM. You can set `max_memory` in to a higher value to use more memory (at your own risk).\n",
      "INFO:__main__:Loading model 'meta-llama/Llama-3.2-1B' with cache strategy 'dynamic'\n",
      "INFO:accelerate.utils.modeling:We will use 90% of the memory on device 0 for storing the model, and 10% for the buffer to avoid OOM. You can set `max_memory` in to a higher value to use more memory (at your own risk).\n",
      "INFO:__main__:Loading model 'meta-llama/Llama-3.2-1B' with cache strategy 'dynamic'\n",
      "INFO:accelerate.utils.modeling:We will use 90% of the memory on device 0 for storing the model, and 10% for the buffer to avoid OOM. You can set `max_memory` in to a higher value to use more memory (at your own risk).\n"
     ]
    },
    {
     "data": {
      "application/vnd.jupyter.widget-view+json": {
       "model_id": "",
       "version_major": 2,
       "version_minor": 0
      },
      "text/plain": [
       "Output length:   0%|          | 0/4 [00:00<?, ?it/s]"
      ]
     },
     "metadata": {},
     "output_type": "display_data"
    },
    {
     "name": "stderr",
     "output_type": "stream",
     "text": [
      "INFO:__main__:Loading model 'meta-llama/Llama-3.2-1B' with cache strategy 'dynamic'\n",
      "INFO:accelerate.utils.modeling:We will use 90% of the memory on device 0 for storing the model, and 10% for the buffer to avoid OOM. You can set `max_memory` in to a higher value to use more memory (at your own risk).\n",
      "INFO:__main__:Loading model 'meta-llama/Llama-3.2-1B' with cache strategy 'dynamic'\n",
      "INFO:accelerate.utils.modeling:We will use 90% of the memory on device 0 for storing the model, and 10% for the buffer to avoid OOM. You can set `max_memory` in to a higher value to use more memory (at your own risk).\n",
      "INFO:__main__:Loading model 'meta-llama/Llama-3.2-1B' with cache strategy 'dynamic'\n",
      "INFO:accelerate.utils.modeling:We will use 90% of the memory on device 0 for storing the model, and 10% for the buffer to avoid OOM. You can set `max_memory` in to a higher value to use more memory (at your own risk).\n",
      "INFO:__main__:Loading model 'meta-llama/Llama-3.2-1B' with cache strategy 'dynamic'\n",
      "INFO:accelerate.utils.modeling:We will use 90% of the memory on device 0 for storing the model, and 10% for the buffer to avoid OOM. You can set `max_memory` in to a higher value to use more memory (at your own risk).\n"
     ]
    },
    {
     "data": {
      "application/vnd.jupyter.widget-view+json": {
       "model_id": "",
       "version_major": 2,
       "version_minor": 0
      },
      "text/plain": [
       "Output length:   0%|          | 0/4 [00:00<?, ?it/s]"
      ]
     },
     "metadata": {},
     "output_type": "display_data"
    },
    {
     "name": "stderr",
     "output_type": "stream",
     "text": [
      "INFO:__main__:Loading model 'meta-llama/Llama-3.2-1B' with cache strategy 'dynamic'\n",
      "INFO:accelerate.utils.modeling:We will use 90% of the memory on device 0 for storing the model, and 10% for the buffer to avoid OOM. You can set `max_memory` in to a higher value to use more memory (at your own risk).\n",
      "INFO:__main__:Loading model 'meta-llama/Llama-3.2-1B' with cache strategy 'dynamic'\n",
      "INFO:accelerate.utils.modeling:We will use 90% of the memory on device 0 for storing the model, and 10% for the buffer to avoid OOM. You can set `max_memory` in to a higher value to use more memory (at your own risk).\n",
      "INFO:__main__:Loading model 'meta-llama/Llama-3.2-1B' with cache strategy 'dynamic'\n",
      "INFO:accelerate.utils.modeling:We will use 90% of the memory on device 0 for storing the model, and 10% for the buffer to avoid OOM. You can set `max_memory` in to a higher value to use more memory (at your own risk).\n",
      "INFO:__main__:Loading model 'meta-llama/Llama-3.2-1B' with cache strategy 'dynamic'\n",
      "INFO:accelerate.utils.modeling:We will use 90% of the memory on device 0 for storing the model, and 10% for the buffer to avoid OOM. You can set `max_memory` in to a higher value to use more memory (at your own risk).\n"
     ]
    },
    {
     "data": {
      "application/vnd.jupyter.widget-view+json": {
       "model_id": "",
       "version_major": 2,
       "version_minor": 0
      },
      "text/plain": [
       "Output length:   0%|          | 0/4 [00:00<?, ?it/s]"
      ]
     },
     "metadata": {},
     "output_type": "display_data"
    },
    {
     "name": "stderr",
     "output_type": "stream",
     "text": [
      "INFO:__main__:Loading model 'meta-llama/Llama-3.2-1B' with cache strategy 'dynamic'\n",
      "INFO:accelerate.utils.modeling:We will use 90% of the memory on device 0 for storing the model, and 10% for the buffer to avoid OOM. You can set `max_memory` in to a higher value to use more memory (at your own risk).\n",
      "INFO:__main__:Loading model 'meta-llama/Llama-3.2-1B' with cache strategy 'dynamic'\n",
      "INFO:accelerate.utils.modeling:We will use 90% of the memory on device 0 for storing the model, and 10% for the buffer to avoid OOM. You can set `max_memory` in to a higher value to use more memory (at your own risk).\n",
      "INFO:__main__:Loading model 'meta-llama/Llama-3.2-1B' with cache strategy 'dynamic'\n",
      "INFO:accelerate.utils.modeling:We will use 90% of the memory on device 0 for storing the model, and 10% for the buffer to avoid OOM. You can set `max_memory` in to a higher value to use more memory (at your own risk).\n",
      "INFO:__main__:Loading model 'meta-llama/Llama-3.2-1B' with cache strategy 'dynamic'\n",
      "INFO:accelerate.utils.modeling:We will use 90% of the memory on device 0 for storing the model, and 10% for the buffer to avoid OOM. You can set `max_memory` in to a higher value to use more memory (at your own risk).\n"
     ]
    },
    {
     "data": {
      "application/vnd.jupyter.widget-view+json": {
       "model_id": "",
       "version_major": 2,
       "version_minor": 0
      },
      "text/plain": [
       "Output length:   0%|          | 0/4 [00:00<?, ?it/s]"
      ]
     },
     "metadata": {},
     "output_type": "display_data"
    },
    {
     "name": "stderr",
     "output_type": "stream",
     "text": [
      "INFO:__main__:Loading model 'meta-llama/Llama-3.2-1B' with cache strategy 'dynamic'\n",
      "INFO:accelerate.utils.modeling:We will use 90% of the memory on device 0 for storing the model, and 10% for the buffer to avoid OOM. You can set `max_memory` in to a higher value to use more memory (at your own risk).\n",
      "INFO:__main__:Loading model 'meta-llama/Llama-3.2-1B' with cache strategy 'dynamic'\n",
      "INFO:accelerate.utils.modeling:We will use 90% of the memory on device 0 for storing the model, and 10% for the buffer to avoid OOM. You can set `max_memory` in to a higher value to use more memory (at your own risk).\n",
      "INFO:__main__:Loading model 'meta-llama/Llama-3.2-1B' with cache strategy 'dynamic'\n",
      "INFO:accelerate.utils.modeling:We will use 90% of the memory on device 0 for storing the model, and 10% for the buffer to avoid OOM. You can set `max_memory` in to a higher value to use more memory (at your own risk).\n",
      "INFO:__main__:Loading model 'meta-llama/Llama-3.2-1B' with cache strategy 'dynamic'\n",
      "INFO:accelerate.utils.modeling:We will use 90% of the memory on device 0 for storing the model, and 10% for the buffer to avoid OOM. You can set `max_memory` in to a higher value to use more memory (at your own risk).\n",
      "INFO:__main__:Performing warmup run...\n",
      "INFO:__main__:Loading model 'meta-llama/Llama-3.2-1B' with cache strategy 'dynamic'\n"
     ]
    },
    {
     "name": "stdout",
     "output_type": "stream",
     "text": [
      "Finished testing dynamic_cpuFalse\n"
     ]
    },
    {
     "name": "stderr",
     "output_type": "stream",
     "text": [
      "INFO:__main__:Moving decoder to CPU...\n",
      "INFO:__main__:Decoder moved to CPU\n"
     ]
    },
    {
     "data": {
      "application/vnd.jupyter.widget-view+json": {
       "model_id": "1d3ca701bbfa4cb18ea04832b470c844",
       "version_major": 2,
       "version_minor": 0
      },
      "text/plain": [
       "Testing dynamic cache with CPU decode=True:   0%|          | 0/5 [00:00<?, ?it/s]"
      ]
     },
     "metadata": {},
     "output_type": "display_data"
    },
    {
     "data": {
      "application/vnd.jupyter.widget-view+json": {
       "model_id": "",
       "version_major": 2,
       "version_minor": 0
      },
      "text/plain": [
       "Output length:   0%|          | 0/4 [00:00<?, ?it/s]"
      ]
     },
     "metadata": {},
     "output_type": "display_data"
    },
    {
     "name": "stderr",
     "output_type": "stream",
     "text": [
      "INFO:__main__:Loading model 'meta-llama/Llama-3.2-1B' with cache strategy 'dynamic'\n",
      "INFO:__main__:Moving decoder to CPU...\n",
      "INFO:__main__:Decoder moved to CPU\n",
      "INFO:__main__:Loading model 'meta-llama/Llama-3.2-1B' with cache strategy 'dynamic'\n",
      "INFO:__main__:Moving decoder to CPU...\n",
      "INFO:__main__:Decoder moved to CPU\n",
      "INFO:__main__:Loading model 'meta-llama/Llama-3.2-1B' with cache strategy 'dynamic'\n",
      "INFO:__main__:Moving decoder to CPU...\n",
      "INFO:__main__:Decoder moved to CPU\n",
      "INFO:__main__:Loading model 'meta-llama/Llama-3.2-1B' with cache strategy 'dynamic'\n",
      "INFO:__main__:Moving decoder to CPU...\n",
      "INFO:__main__:Decoder moved to CPU\n"
     ]
    },
    {
     "data": {
      "application/vnd.jupyter.widget-view+json": {
       "model_id": "",
       "version_major": 2,
       "version_minor": 0
      },
      "text/plain": [
       "Output length:   0%|          | 0/4 [00:00<?, ?it/s]"
      ]
     },
     "metadata": {},
     "output_type": "display_data"
    },
    {
     "name": "stderr",
     "output_type": "stream",
     "text": [
      "INFO:__main__:Loading model 'meta-llama/Llama-3.2-1B' with cache strategy 'dynamic'\n",
      "INFO:__main__:Moving decoder to CPU...\n",
      "INFO:__main__:Decoder moved to CPU\n",
      "INFO:__main__:Loading model 'meta-llama/Llama-3.2-1B' with cache strategy 'dynamic'\n",
      "INFO:__main__:Moving decoder to CPU...\n",
      "INFO:__main__:Decoder moved to CPU\n",
      "INFO:__main__:Loading model 'meta-llama/Llama-3.2-1B' with cache strategy 'dynamic'\n",
      "INFO:__main__:Moving decoder to CPU...\n",
      "INFO:__main__:Decoder moved to CPU\n",
      "INFO:__main__:Loading model 'meta-llama/Llama-3.2-1B' with cache strategy 'dynamic'\n",
      "INFO:__main__:Moving decoder to CPU...\n",
      "INFO:__main__:Decoder moved to CPU\n"
     ]
    },
    {
     "data": {
      "application/vnd.jupyter.widget-view+json": {
       "model_id": "",
       "version_major": 2,
       "version_minor": 0
      },
      "text/plain": [
       "Output length:   0%|          | 0/4 [00:00<?, ?it/s]"
      ]
     },
     "metadata": {},
     "output_type": "display_data"
    },
    {
     "name": "stderr",
     "output_type": "stream",
     "text": [
      "INFO:__main__:Loading model 'meta-llama/Llama-3.2-1B' with cache strategy 'dynamic'\n",
      "INFO:__main__:Moving decoder to CPU...\n",
      "INFO:__main__:Decoder moved to CPU\n",
      "INFO:__main__:Loading model 'meta-llama/Llama-3.2-1B' with cache strategy 'dynamic'\n",
      "INFO:__main__:Moving decoder to CPU...\n",
      "INFO:__main__:Decoder moved to CPU\n",
      "INFO:__main__:Loading model 'meta-llama/Llama-3.2-1B' with cache strategy 'dynamic'\n",
      "INFO:__main__:Moving decoder to CPU...\n",
      "INFO:__main__:Decoder moved to CPU\n",
      "INFO:__main__:Loading model 'meta-llama/Llama-3.2-1B' with cache strategy 'dynamic'\n",
      "INFO:__main__:Moving decoder to CPU...\n",
      "INFO:__main__:Decoder moved to CPU\n"
     ]
    },
    {
     "data": {
      "application/vnd.jupyter.widget-view+json": {
       "model_id": "",
       "version_major": 2,
       "version_minor": 0
      },
      "text/plain": [
       "Output length:   0%|          | 0/4 [00:00<?, ?it/s]"
      ]
     },
     "metadata": {},
     "output_type": "display_data"
    },
    {
     "name": "stderr",
     "output_type": "stream",
     "text": [
      "INFO:__main__:Loading model 'meta-llama/Llama-3.2-1B' with cache strategy 'dynamic'\n",
      "INFO:__main__:Moving decoder to CPU...\n",
      "INFO:__main__:Decoder moved to CPU\n",
      "INFO:__main__:Loading model 'meta-llama/Llama-3.2-1B' with cache strategy 'dynamic'\n",
      "INFO:__main__:Moving decoder to CPU...\n",
      "INFO:__main__:Decoder moved to CPU\n",
      "INFO:__main__:Loading model 'meta-llama/Llama-3.2-1B' with cache strategy 'dynamic'\n",
      "INFO:__main__:Moving decoder to CPU...\n",
      "INFO:__main__:Decoder moved to CPU\n",
      "INFO:__main__:Loading model 'meta-llama/Llama-3.2-1B' with cache strategy 'dynamic'\n",
      "INFO:__main__:Moving decoder to CPU...\n",
      "INFO:__main__:Decoder moved to CPU\n"
     ]
    },
    {
     "data": {
      "application/vnd.jupyter.widget-view+json": {
       "model_id": "",
       "version_major": 2,
       "version_minor": 0
      },
      "text/plain": [
       "Output length:   0%|          | 0/4 [00:00<?, ?it/s]"
      ]
     },
     "metadata": {},
     "output_type": "display_data"
    },
    {
     "name": "stderr",
     "output_type": "stream",
     "text": [
      "INFO:__main__:Loading model 'meta-llama/Llama-3.2-1B' with cache strategy 'dynamic'\n",
      "INFO:__main__:Moving decoder to CPU...\n",
      "INFO:__main__:Decoder moved to CPU\n",
      "INFO:__main__:Loading model 'meta-llama/Llama-3.2-1B' with cache strategy 'dynamic'\n",
      "INFO:__main__:Moving decoder to CPU...\n",
      "INFO:__main__:Decoder moved to CPU\n",
      "INFO:__main__:Loading model 'meta-llama/Llama-3.2-1B' with cache strategy 'dynamic'\n",
      "INFO:__main__:Moving decoder to CPU...\n",
      "INFO:__main__:Decoder moved to CPU\n",
      "INFO:__main__:Loading model 'meta-llama/Llama-3.2-1B' with cache strategy 'dynamic'\n",
      "INFO:__main__:Moving decoder to CPU...\n",
      "INFO:__main__:Decoder moved to CPU\n",
      "INFO:__main__:Performing warmup run...\n",
      "INFO:__main__:Loading model 'meta-llama/Llama-3.2-1B' with cache strategy 'offloaded'\n",
      "INFO:accelerate.utils.modeling:We will use 90% of the memory on device 0 for storing the model, and 10% for the buffer to avoid OOM. You can set `max_memory` in to a higher value to use more memory (at your own risk).\n"
     ]
    },
    {
     "name": "stdout",
     "output_type": "stream",
     "text": [
      "Finished testing dynamic_cpuTrue\n"
     ]
    },
    {
     "data": {
      "application/vnd.jupyter.widget-view+json": {
       "model_id": "25b6cfd358c047ae87c7de35b13c050b",
       "version_major": 2,
       "version_minor": 0
      },
      "text/plain": [
       "Testing offloaded cache with CPU decode=False:   0%|          | 0/5 [00:00<?, ?it/s]"
      ]
     },
     "metadata": {},
     "output_type": "display_data"
    },
    {
     "data": {
      "application/vnd.jupyter.widget-view+json": {
       "model_id": "",
       "version_major": 2,
       "version_minor": 0
      },
      "text/plain": [
       "Output length:   0%|          | 0/4 [00:00<?, ?it/s]"
      ]
     },
     "metadata": {},
     "output_type": "display_data"
    },
    {
     "name": "stderr",
     "output_type": "stream",
     "text": [
      "INFO:__main__:Loading model 'meta-llama/Llama-3.2-1B' with cache strategy 'offloaded'\n",
      "INFO:accelerate.utils.modeling:We will use 90% of the memory on device 0 for storing the model, and 10% for the buffer to avoid OOM. You can set `max_memory` in to a higher value to use more memory (at your own risk).\n",
      "INFO:__main__:Loading model 'meta-llama/Llama-3.2-1B' with cache strategy 'offloaded'\n",
      "INFO:accelerate.utils.modeling:We will use 90% of the memory on device 0 for storing the model, and 10% for the buffer to avoid OOM. You can set `max_memory` in to a higher value to use more memory (at your own risk).\n",
      "INFO:__main__:Loading model 'meta-llama/Llama-3.2-1B' with cache strategy 'offloaded'\n",
      "INFO:accelerate.utils.modeling:We will use 90% of the memory on device 0 for storing the model, and 10% for the buffer to avoid OOM. You can set `max_memory` in to a higher value to use more memory (at your own risk).\n",
      "INFO:__main__:Loading model 'meta-llama/Llama-3.2-1B' with cache strategy 'offloaded'\n",
      "INFO:accelerate.utils.modeling:We will use 90% of the memory on device 0 for storing the model, and 10% for the buffer to avoid OOM. You can set `max_memory` in to a higher value to use more memory (at your own risk).\n"
     ]
    },
    {
     "data": {
      "application/vnd.jupyter.widget-view+json": {
       "model_id": "",
       "version_major": 2,
       "version_minor": 0
      },
      "text/plain": [
       "Output length:   0%|          | 0/4 [00:00<?, ?it/s]"
      ]
     },
     "metadata": {},
     "output_type": "display_data"
    },
    {
     "name": "stderr",
     "output_type": "stream",
     "text": [
      "INFO:__main__:Loading model 'meta-llama/Llama-3.2-1B' with cache strategy 'offloaded'\n",
      "INFO:accelerate.utils.modeling:We will use 90% of the memory on device 0 for storing the model, and 10% for the buffer to avoid OOM. You can set `max_memory` in to a higher value to use more memory (at your own risk).\n",
      "INFO:__main__:Loading model 'meta-llama/Llama-3.2-1B' with cache strategy 'offloaded'\n",
      "INFO:accelerate.utils.modeling:We will use 90% of the memory on device 0 for storing the model, and 10% for the buffer to avoid OOM. You can set `max_memory` in to a higher value to use more memory (at your own risk).\n",
      "INFO:__main__:Loading model 'meta-llama/Llama-3.2-1B' with cache strategy 'offloaded'\n",
      "INFO:accelerate.utils.modeling:We will use 90% of the memory on device 0 for storing the model, and 10% for the buffer to avoid OOM. You can set `max_memory` in to a higher value to use more memory (at your own risk).\n",
      "INFO:__main__:Loading model 'meta-llama/Llama-3.2-1B' with cache strategy 'offloaded'\n",
      "INFO:accelerate.utils.modeling:We will use 90% of the memory on device 0 for storing the model, and 10% for the buffer to avoid OOM. You can set `max_memory` in to a higher value to use more memory (at your own risk).\n"
     ]
    },
    {
     "data": {
      "application/vnd.jupyter.widget-view+json": {
       "model_id": "",
       "version_major": 2,
       "version_minor": 0
      },
      "text/plain": [
       "Output length:   0%|          | 0/4 [00:00<?, ?it/s]"
      ]
     },
     "metadata": {},
     "output_type": "display_data"
    },
    {
     "name": "stderr",
     "output_type": "stream",
     "text": [
      "INFO:__main__:Loading model 'meta-llama/Llama-3.2-1B' with cache strategy 'offloaded'\n",
      "INFO:accelerate.utils.modeling:We will use 90% of the memory on device 0 for storing the model, and 10% for the buffer to avoid OOM. You can set `max_memory` in to a higher value to use more memory (at your own risk).\n",
      "INFO:__main__:Loading model 'meta-llama/Llama-3.2-1B' with cache strategy 'offloaded'\n",
      "INFO:accelerate.utils.modeling:We will use 90% of the memory on device 0 for storing the model, and 10% for the buffer to avoid OOM. You can set `max_memory` in to a higher value to use more memory (at your own risk).\n",
      "INFO:__main__:Loading model 'meta-llama/Llama-3.2-1B' with cache strategy 'offloaded'\n",
      "INFO:accelerate.utils.modeling:We will use 90% of the memory on device 0 for storing the model, and 10% for the buffer to avoid OOM. You can set `max_memory` in to a higher value to use more memory (at your own risk).\n",
      "INFO:__main__:Loading model 'meta-llama/Llama-3.2-1B' with cache strategy 'offloaded'\n",
      "INFO:accelerate.utils.modeling:We will use 90% of the memory on device 0 for storing the model, and 10% for the buffer to avoid OOM. You can set `max_memory` in to a higher value to use more memory (at your own risk).\n"
     ]
    },
    {
     "data": {
      "application/vnd.jupyter.widget-view+json": {
       "model_id": "",
       "version_major": 2,
       "version_minor": 0
      },
      "text/plain": [
       "Output length:   0%|          | 0/4 [00:00<?, ?it/s]"
      ]
     },
     "metadata": {},
     "output_type": "display_data"
    },
    {
     "name": "stderr",
     "output_type": "stream",
     "text": [
      "INFO:__main__:Loading model 'meta-llama/Llama-3.2-1B' with cache strategy 'offloaded'\n",
      "INFO:accelerate.utils.modeling:We will use 90% of the memory on device 0 for storing the model, and 10% for the buffer to avoid OOM. You can set `max_memory` in to a higher value to use more memory (at your own risk).\n",
      "INFO:__main__:Loading model 'meta-llama/Llama-3.2-1B' with cache strategy 'offloaded'\n",
      "INFO:accelerate.utils.modeling:We will use 90% of the memory on device 0 for storing the model, and 10% for the buffer to avoid OOM. You can set `max_memory` in to a higher value to use more memory (at your own risk).\n",
      "INFO:__main__:Loading model 'meta-llama/Llama-3.2-1B' with cache strategy 'offloaded'\n",
      "INFO:accelerate.utils.modeling:We will use 90% of the memory on device 0 for storing the model, and 10% for the buffer to avoid OOM. You can set `max_memory` in to a higher value to use more memory (at your own risk).\n",
      "INFO:__main__:Loading model 'meta-llama/Llama-3.2-1B' with cache strategy 'offloaded'\n",
      "INFO:accelerate.utils.modeling:We will use 90% of the memory on device 0 for storing the model, and 10% for the buffer to avoid OOM. You can set `max_memory` in to a higher value to use more memory (at your own risk).\n"
     ]
    },
    {
     "data": {
      "application/vnd.jupyter.widget-view+json": {
       "model_id": "",
       "version_major": 2,
       "version_minor": 0
      },
      "text/plain": [
       "Output length:   0%|          | 0/4 [00:00<?, ?it/s]"
      ]
     },
     "metadata": {},
     "output_type": "display_data"
    },
    {
     "name": "stderr",
     "output_type": "stream",
     "text": [
      "INFO:__main__:Loading model 'meta-llama/Llama-3.2-1B' with cache strategy 'offloaded'\n",
      "INFO:accelerate.utils.modeling:We will use 90% of the memory on device 0 for storing the model, and 10% for the buffer to avoid OOM. You can set `max_memory` in to a higher value to use more memory (at your own risk).\n",
      "INFO:__main__:Loading model 'meta-llama/Llama-3.2-1B' with cache strategy 'offloaded'\n",
      "INFO:accelerate.utils.modeling:We will use 90% of the memory on device 0 for storing the model, and 10% for the buffer to avoid OOM. You can set `max_memory` in to a higher value to use more memory (at your own risk).\n",
      "INFO:__main__:Loading model 'meta-llama/Llama-3.2-1B' with cache strategy 'offloaded'\n",
      "INFO:accelerate.utils.modeling:We will use 90% of the memory on device 0 for storing the model, and 10% for the buffer to avoid OOM. You can set `max_memory` in to a higher value to use more memory (at your own risk).\n",
      "INFO:__main__:Loading model 'meta-llama/Llama-3.2-1B' with cache strategy 'offloaded'\n",
      "INFO:accelerate.utils.modeling:We will use 90% of the memory on device 0 for storing the model, and 10% for the buffer to avoid OOM. You can set `max_memory` in to a higher value to use more memory (at your own risk).\n",
      "INFO:__main__:Performing warmup run...\n",
      "INFO:__main__:Loading model 'meta-llama/Llama-3.2-1B' with cache strategy 'offloaded'\n"
     ]
    },
    {
     "name": "stdout",
     "output_type": "stream",
     "text": [
      "Finished testing offloaded_cpuFalse\n"
     ]
    },
    {
     "name": "stderr",
     "output_type": "stream",
     "text": [
      "INFO:__main__:Moving decoder to CPU...\n",
      "INFO:__main__:Decoder moved to CPU\n"
     ]
    },
    {
     "data": {
      "application/vnd.jupyter.widget-view+json": {
       "model_id": "3dc1954fc70c450b96eba49a8a108764",
       "version_major": 2,
       "version_minor": 0
      },
      "text/plain": [
       "Testing offloaded cache with CPU decode=True:   0%|          | 0/5 [00:00<?, ?it/s]"
      ]
     },
     "metadata": {},
     "output_type": "display_data"
    },
    {
     "data": {
      "application/vnd.jupyter.widget-view+json": {
       "model_id": "",
       "version_major": 2,
       "version_minor": 0
      },
      "text/plain": [
       "Output length:   0%|          | 0/4 [00:00<?, ?it/s]"
      ]
     },
     "metadata": {},
     "output_type": "display_data"
    },
    {
     "name": "stderr",
     "output_type": "stream",
     "text": [
      "INFO:__main__:Loading model 'meta-llama/Llama-3.2-1B' with cache strategy 'offloaded'\n",
      "INFO:__main__:Moving decoder to CPU...\n",
      "INFO:__main__:Decoder moved to CPU\n",
      "INFO:__main__:Loading model 'meta-llama/Llama-3.2-1B' with cache strategy 'offloaded'\n",
      "INFO:__main__:Moving decoder to CPU...\n",
      "INFO:__main__:Decoder moved to CPU\n",
      "INFO:__main__:Loading model 'meta-llama/Llama-3.2-1B' with cache strategy 'offloaded'\n",
      "INFO:__main__:Moving decoder to CPU...\n",
      "INFO:__main__:Decoder moved to CPU\n",
      "INFO:__main__:Loading model 'meta-llama/Llama-3.2-1B' with cache strategy 'offloaded'\n",
      "INFO:__main__:Moving decoder to CPU...\n",
      "INFO:__main__:Decoder moved to CPU\n"
     ]
    },
    {
     "data": {
      "application/vnd.jupyter.widget-view+json": {
       "model_id": "",
       "version_major": 2,
       "version_minor": 0
      },
      "text/plain": [
       "Output length:   0%|          | 0/4 [00:00<?, ?it/s]"
      ]
     },
     "metadata": {},
     "output_type": "display_data"
    },
    {
     "name": "stderr",
     "output_type": "stream",
     "text": [
      "INFO:__main__:Loading model 'meta-llama/Llama-3.2-1B' with cache strategy 'offloaded'\n",
      "INFO:__main__:Moving decoder to CPU...\n",
      "INFO:__main__:Decoder moved to CPU\n",
      "INFO:__main__:Loading model 'meta-llama/Llama-3.2-1B' with cache strategy 'offloaded'\n",
      "INFO:__main__:Moving decoder to CPU...\n",
      "INFO:__main__:Decoder moved to CPU\n",
      "INFO:__main__:Loading model 'meta-llama/Llama-3.2-1B' with cache strategy 'offloaded'\n",
      "INFO:__main__:Moving decoder to CPU...\n",
      "INFO:__main__:Decoder moved to CPU\n",
      "INFO:__main__:Loading model 'meta-llama/Llama-3.2-1B' with cache strategy 'offloaded'\n",
      "INFO:__main__:Moving decoder to CPU...\n",
      "INFO:__main__:Decoder moved to CPU\n"
     ]
    },
    {
     "data": {
      "application/vnd.jupyter.widget-view+json": {
       "model_id": "",
       "version_major": 2,
       "version_minor": 0
      },
      "text/plain": [
       "Output length:   0%|          | 0/4 [00:00<?, ?it/s]"
      ]
     },
     "metadata": {},
     "output_type": "display_data"
    },
    {
     "name": "stderr",
     "output_type": "stream",
     "text": [
      "INFO:__main__:Loading model 'meta-llama/Llama-3.2-1B' with cache strategy 'offloaded'\n",
      "INFO:__main__:Moving decoder to CPU...\n",
      "INFO:__main__:Decoder moved to CPU\n",
      "INFO:__main__:Loading model 'meta-llama/Llama-3.2-1B' with cache strategy 'offloaded'\n",
      "INFO:__main__:Moving decoder to CPU...\n",
      "INFO:__main__:Decoder moved to CPU\n",
      "INFO:__main__:Loading model 'meta-llama/Llama-3.2-1B' with cache strategy 'offloaded'\n",
      "INFO:__main__:Moving decoder to CPU...\n",
      "INFO:__main__:Decoder moved to CPU\n",
      "INFO:__main__:Loading model 'meta-llama/Llama-3.2-1B' with cache strategy 'offloaded'\n",
      "INFO:__main__:Moving decoder to CPU...\n",
      "INFO:__main__:Decoder moved to CPU\n"
     ]
    },
    {
     "data": {
      "application/vnd.jupyter.widget-view+json": {
       "model_id": "",
       "version_major": 2,
       "version_minor": 0
      },
      "text/plain": [
       "Output length:   0%|          | 0/4 [00:00<?, ?it/s]"
      ]
     },
     "metadata": {},
     "output_type": "display_data"
    },
    {
     "name": "stderr",
     "output_type": "stream",
     "text": [
      "INFO:__main__:Loading model 'meta-llama/Llama-3.2-1B' with cache strategy 'offloaded'\n",
      "INFO:__main__:Moving decoder to CPU...\n",
      "INFO:__main__:Decoder moved to CPU\n",
      "INFO:__main__:Loading model 'meta-llama/Llama-3.2-1B' with cache strategy 'offloaded'\n",
      "INFO:__main__:Moving decoder to CPU...\n",
      "INFO:__main__:Decoder moved to CPU\n",
      "INFO:__main__:Loading model 'meta-llama/Llama-3.2-1B' with cache strategy 'offloaded'\n",
      "INFO:__main__:Moving decoder to CPU...\n",
      "INFO:__main__:Decoder moved to CPU\n",
      "INFO:__main__:Loading model 'meta-llama/Llama-3.2-1B' with cache strategy 'offloaded'\n",
      "INFO:__main__:Moving decoder to CPU...\n",
      "INFO:__main__:Decoder moved to CPU\n"
     ]
    },
    {
     "data": {
      "application/vnd.jupyter.widget-view+json": {
       "model_id": "",
       "version_major": 2,
       "version_minor": 0
      },
      "text/plain": [
       "Output length:   0%|          | 0/4 [00:00<?, ?it/s]"
      ]
     },
     "metadata": {},
     "output_type": "display_data"
    },
    {
     "name": "stderr",
     "output_type": "stream",
     "text": [
      "INFO:__main__:Loading model 'meta-llama/Llama-3.2-1B' with cache strategy 'offloaded'\n",
      "INFO:__main__:Moving decoder to CPU...\n",
      "INFO:__main__:Decoder moved to CPU\n",
      "INFO:__main__:Loading model 'meta-llama/Llama-3.2-1B' with cache strategy 'offloaded'\n",
      "INFO:__main__:Moving decoder to CPU...\n",
      "INFO:__main__:Decoder moved to CPU\n",
      "INFO:__main__:Loading model 'meta-llama/Llama-3.2-1B' with cache strategy 'offloaded'\n",
      "INFO:__main__:Moving decoder to CPU...\n",
      "INFO:__main__:Decoder moved to CPU\n",
      "INFO:__main__:Loading model 'meta-llama/Llama-3.2-1B' with cache strategy 'offloaded'\n",
      "INFO:__main__:Moving decoder to CPU...\n",
      "INFO:__main__:Decoder moved to CPU\n"
     ]
    },
    {
     "name": "stdout",
     "output_type": "stream",
     "text": [
      "Finished testing offloaded_cpuTrue\n"
     ]
    }
   ],
   "source": [
    "configs = [\n",
    "    ModelConfig(cache_strategy=\"dynamic\", use_cpu_decode=False),  # Baseline\n",
    "    ModelConfig(cache_strategy=\"dynamic\", use_cpu_decode=True),   # CPU decode\n",
    "    ModelConfig(cache_strategy=\"offloaded\", use_cpu_decode=False), # Offloaded cache\n",
    "    ModelConfig(cache_strategy=\"offloaded\", use_cpu_decode=True)  # Hybrid\n",
    "]\n",
    "\n",
    "context_lengths = [1024, 2048, 4096, 8192, 16384]\n",
    "output_lengths = [20, 50, 100, 200]  # This will now actually be used\n",
    "all_results = {}\n",
    "\n",
    "for config in configs:\n",
    "    name = f\"{config.cache_strategy}_cpu{config.use_cpu_decode}\"\n",
    "    all_results[name] = run_comprehensive_test(\n",
    "        config, \n",
    "        context_lengths=context_lengths,\n",
    "        output_lengths=output_lengths,\n",
    "        warmup=True\n",
    "    )\n",
    "    print(f\"Finished testing {name}\")"
   ]
  },
  {
   "cell_type": "code",
   "execution_count": 28,
   "id": "865598b0-cf93-41d1-bc93-7a80c0a4b3bd",
   "metadata": {},
   "outputs": [
    {
     "name": "stdout",
     "output_type": "stream",
     "text": [
      "Results saved to benchmark_results_initial.json\n"
     ]
    }
   ],
   "source": [
    "import json\n",
    "from datetime import datetime\n",
    "\n",
    "results_file = f\"benchmark_results_initial.json\"\n",
    "\n",
    "# Save results\n",
    "with open(results_file, 'w') as f:\n",
    "    json.dump(all_results, f, indent=2)\n",
    "\n",
    "print(f\"Results saved to {results_file}\")\n",
    "\n",
    "# To load results later:\n",
    "with open(results_file, 'r') as f:\n",
    "    loaded_results = json.load(f)"
   ]
  },
  {
   "cell_type": "code",
   "execution_count": null,
   "id": "e7cc9c4d-f973-4d35-bc79-48e4060d437c",
   "metadata": {},
   "outputs": [],
   "source": []
  }
 ],
 "metadata": {
  "kernelspec": {
   "display_name": "Python 3 (ipykernel)",
   "language": "python",
   "name": "python3"
  },
  "language_info": {
   "codemirror_mode": {
    "name": "ipython",
    "version": 3
   },
   "file_extension": ".py",
   "mimetype": "text/x-python",
   "name": "python",
   "nbconvert_exporter": "python",
   "pygments_lexer": "ipython3",
   "version": "3.11.6"
  }
 },
 "nbformat": 4,
 "nbformat_minor": 5
}
